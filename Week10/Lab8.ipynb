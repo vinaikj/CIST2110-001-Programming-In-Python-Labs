{
 "cells": [
  {
   "cell_type": "markdown",
   "metadata": {},
   "source": [
    "# Lab 8 - File I/O and Frankenstein\n",
    "### Name:\n",
    "This lab is designed to give you practice with file I/O and to give you a chance to work with a larger program.  You will be writing a program that will read in a text file and then create a new file that is a modified version of the original.  The program will then read in the modified file and print out some statistics about the file."
   ]
  },
  {
   "cell_type": "code",
   "execution_count": null,
   "metadata": {},
   "outputs": [],
   "source": [
    "# Take in the Frankenstein text using open and read\n",
    "# Open the file\n",
    "\n"
   ]
  },
  {
   "cell_type": "code",
   "execution_count": null,
   "metadata": {},
   "outputs": [],
   "source": [
    "# Show the start of the file (first 1000 characters)\n",
    "# Note: Use slicing to get the first 1000 characters\n"
   ]
  },
  {
   "cell_type": "code",
   "execution_count": null,
   "metadata": {},
   "outputs": [],
   "source": [
    "# Show the end of the file (last 1000 characters)\n",
    "# Note: Use slicing to get the last 1000 characters\n",
    "#  H  E  L  L  O\n",
    "#  0  1  2  3  4\n",
    "# -5 -4 -3 -2 -1\n"
   ]
  },
  {
   "cell_type": "code",
   "execution_count": null,
   "metadata": {},
   "outputs": [],
   "source": [
    "# Notice there is a lot of extra stuff at the beginning and end of the file (The header and footer)\n",
    "# Lets remove the header and footer\n",
    "# Create a method called remove_gutenberg_header_footer that takes in a string and returns a string\n",
    "# The method should remove the header and footer from the string\n",
    "# The method should return the string with the header and footer removed\n",
    "# Note: The header and footer are the same for all Gutenberg texts\n",
    "# Note: The header and footer are marked by the following strings:\n",
    "# *** START OF THE PROJECT GUTENBERG EBOOK FRANKENSTEIN; OR, THE MODERN PROMETHEUS ***\n",
    "# *** END OF THE PROJECT GUTENBERG EBOOK FRANKENSTEIN; OR, THE MODERN PROMETHEUS ***\n",
    "\n",
    "\n",
    "\n",
    "def remove_gutenberg_header_footer(text):\n",
    "\n",
    "\n",
    "# Call the remove_gutenberg_header_footer method with the text and save the result to a variable called text\n",
    "\n"
   ]
  },
  {
   "cell_type": "code",
   "execution_count": null,
   "metadata": {},
   "outputs": [],
   "source": [
    "# Data Analysis\n",
    "# Now that we have the text, lets do some analysis\n",
    "# How many chapters are in the text?\n",
    "# Note: Each chapter starts with the text \"Chapter\" and then a number\n",
    "# Note: Use the count method to count the number of chapters but only in the first 1000 characters of the text\n",
    "# Note: There are 24 chapters \n",
    "# Note: Use slicing to get the first 1000 characters\n",
    "\n",
    "\n",
    "# Try to remove punctuation\n",
    "# Note: Use the replace method to replace punctuation with nothing\n",
    "# Note: Use the lower method to make the text lowercase\n",
    "# Note: Use the split method to split the text into words\n",
    "# remember methods can be chained together like this: text.replace().replace().replace().lower().split()\n",
    "\n",
    "# How many unique words are in the text?\n",
    "# A unique word is a word that only appears once in the text\n",
    "# Note: Use the set method to get the unique words\n",
    "# Note: Use the len method to get the number of unique words\n",
    "\n",
    "\n",
    "\n",
    "\n",
    "# How many times does the word \"monster\" appear in the text?\n",
    "# Note: Use the count method to count the number of times \"monster\" appears in the text\n",
    "\n",
    "\n"
   ]
  },
  {
   "cell_type": "code",
   "execution_count": null,
   "metadata": {},
   "outputs": [],
   "source": [
    "## Get top 10 words in the text\n",
    "# Note: Use the Counter method to get the top 10 words\n",
    "# Note: Use the most_common method to get the top 10 words\n",
    "\n",
    "# You will need to import Counter from collections to use the Counter method\n",
    "# from collections import Counter \n",
    "# You might need to install collections using pip (in the terminal type: pip install collections)\n",
    "\n",
    "# Print the top 10 words in the text\n",
    "\n"
   ]
  },
  {
   "cell_type": "code",
   "execution_count": null,
   "metadata": {},
   "outputs": [],
   "source": [
    "#### Extra Credit ####\n",
    "# Show me something interesting about the text that you found using python it can be anything\n",
    "\n"
   ]
  }
 ],
 "metadata": {
  "kernelspec": {
   "display_name": "venv",
   "language": "python",
   "name": "python3"
  },
  "language_info": {
   "codemirror_mode": {
    "name": "ipython",
    "version": 3
   },
   "file_extension": ".py",
   "mimetype": "text/x-python",
   "name": "python",
   "nbconvert_exporter": "python",
   "pygments_lexer": "ipython3",
   "version": "3.11.6"
  }
 },
 "nbformat": 4,
 "nbformat_minor": 2
}
